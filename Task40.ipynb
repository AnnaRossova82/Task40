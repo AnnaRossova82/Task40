{
 "cells": [
  {
   "cell_type": "code",
   "execution_count": 45,
   "id": "5f7133cb",
   "metadata": {},
   "outputs": [],
   "source": [
    "from sklearn.ensemble import StackingClassifier\n",
    "from sklearn.datasets import load_breast_cancer\n",
    "from sklearn.linear_model import LogisticRegression\n",
    "from sklearn.linear_model import SGDClassifier\n",
    "from sklearn.tree import DecisionTreeClassifier\n",
    "from sklearn.model_selection import train_test_split\n",
    "from sklearn.svm import LinearSVC\n",
    "from sklearn.ensemble import BaggingClassifier\n",
    "from sklearn.ensemble import AdaBoostClassifier\n",
    "import pandas as pd\n",
    "\n"
   ]
  },
  {
   "cell_type": "code",
   "execution_count": 31,
   "id": "b83abd28",
   "metadata": {},
   "outputs": [
    {
     "name": "stdout",
     "output_type": "stream",
     "text": [
      "Requirement already satisfied: xgboost in c:\\users\\38098\\appdata\\roaming\\python\\python39\\site-packages (1.7.5)\n",
      "Requirement already satisfied: numpy in c:\\users\\38098\\anaconda3\\lib\\site-packages (from xgboost) (1.21.5)\n",
      "Requirement already satisfied: scipy in c:\\users\\38098\\anaconda3\\lib\\site-packages (from xgboost) (1.9.1)\n",
      "Note: you may need to restart the kernel to use updated packages.\n"
     ]
    }
   ],
   "source": [
    "pip install --user xgboost\n",
    "#conda install -c conda-forge py-xgboost-cpu"
   ]
  },
  {
   "cell_type": "code",
   "execution_count": 60,
   "id": "01135117",
   "metadata": {},
   "outputs": [],
   "source": [
    "\n"
   ]
  },
  {
   "cell_type": "code",
   "execution_count": 33,
   "id": "6d051559",
   "metadata": {},
   "outputs": [],
   "source": [
    "import xgboost as xgb\n",
    "from xgboost import XGBClassifier"
   ]
  },
  {
   "cell_type": "code",
   "execution_count": 2,
   "id": "cf93ebd0",
   "metadata": {},
   "outputs": [],
   "source": [
    "data=load_breast_cancer()\n"
   ]
  },
  {
   "cell_type": "code",
   "execution_count": 6,
   "id": "ad11b13c",
   "metadata": {},
   "outputs": [],
   "source": [
    "#data\n",
    "data, target=load_breast_cancer(return_X_y=True)"
   ]
  },
  {
   "cell_type": "code",
   "execution_count": 65,
   "id": "0f7bc5a6",
   "metadata": {},
   "outputs": [],
   "source": [
    "estimators = [('lgr', LogisticRegression(max_iter=100000)), ('dtc', DecisionTreeClassifier())]\n",
    "modelClf = StackingClassifier(estimators=estimators, final_estimator=LinearSVC())"
   ]
  },
  {
   "cell_type": "code",
   "execution_count": 9,
   "id": "4d3ba723",
   "metadata": {},
   "outputs": [],
   "source": [
    "X_train, X_valid, y_train, y_valid = train_test_split(data, target, test_size=0.3, random_state=12)\n"
   ]
  },
  {
   "cell_type": "code",
   "execution_count": 66,
   "id": "a27224ea",
   "metadata": {},
   "outputs": [
    {
     "name": "stdout",
     "output_type": "stream",
     "text": [
      "0.935672514619883\n"
     ]
    }
   ],
   "source": [
    "modelClf.fit(X_train, y_train)\n",
    "print(modelClf.score(X_valid, y_valid))"
   ]
  },
  {
   "cell_type": "code",
   "execution_count": 14,
   "id": "8b469628",
   "metadata": {},
   "outputs": [
    {
     "name": "stdout",
     "output_type": "stream",
     "text": [
      "0.9122807017543859\n"
     ]
    }
   ],
   "source": [
    "modelClf_1 = BaggingClassifier(base_estimator=DecisionTreeClassifier(), n_estimators=14, random_state=41)\n",
    "modelClf_1.fit(X_train, y_train)\n",
    "print(modelClf_1.score(X_valid, y_valid))"
   ]
  },
  {
   "cell_type": "code",
   "execution_count": 68,
   "id": "558f45c8",
   "metadata": {},
   "outputs": [
    {
     "data": {
      "text/plain": [
       "0.935672514619883"
      ]
     },
     "execution_count": 68,
     "metadata": {},
     "output_type": "execute_result"
    }
   ],
   "source": [
    "modelClf_2=AdaBoostClassifier(base_estimator=LogisticRegression(max_iter=100000), n_estimators=100, random_state=12)\n",
    "modelClf_2.fit(X_train, y_train)\n",
    "modelClf_2.score(X_valid, y_valid)"
   ]
  },
  {
   "cell_type": "code",
   "execution_count": 61,
   "id": "0c54a829",
   "metadata": {},
   "outputs": [
    {
     "data": {
      "text/plain": [
       "0.9122807017543859"
      ]
     },
     "execution_count": 61,
     "metadata": {},
     "output_type": "execute_result"
    }
   ],
   "source": [
    "modelClf_3 = XGBClassifier(booster = 'gbtree', learning_rate=0.02, n_estimators=10)\n",
    "modelClf_3.fit(X_train, y_train)\n",
    "modelClf_3.score(X_valid, y_valid)\n",
    "\n",
    "\n"
   ]
  },
  {
   "cell_type": "code",
   "execution_count": 59,
   "id": "2402a8c6",
   "metadata": {},
   "outputs": [
    {
     "name": "stdout",
     "output_type": "stream",
     "text": [
      "[['StackingClassifier'\n",
      "  'estimators: LogisticRegression, DecisionTreeClassifier, final_estimator=LinearSVC. Mean accuracy=0.935672514619883'\n",
      "  'estimators: LogisticRegression, SGDC, final_estimator=DecisionTreeClassifier.Mean accuracy=0.912']\n",
      " ['BaggingClassifier'\n",
      "  'base_estimator=DecisionTreeClassifier. Mean accuracy=0.9122807017543859'\n",
      "  'base_estimator=LogisticRegression. Mean accuracy=0.94']\n",
      " ['AdaBoostClassifier'\n",
      "  'base_estimator=LogisticRegression. Mean accuracy=0.935672514619883'\n",
      "  'base_estimator=DecisionTreeClassifier. Mean accuracy=0.906']\n",
      " ['XGBClassifier' \"booster = 'gbtree'. Mean accuracy=0.9122807017543859\"\n",
      "  \"booster = 'gblinear'. Mean accuracy=0.853\"]]\n"
     ]
    }
   ],
   "source": [
    "#Порвіняльна таблиця.Розписані моделі що використані мною, під ними - ті, що взяті в презентації, та середня точність прогнозів\n",
    "df=pd.read_excel('compare.xlsx')\n",
    "print(df.to_numpy())\n"
   ]
  },
  {
   "cell_type": "code",
   "execution_count": null,
   "id": "fcf7b354",
   "metadata": {},
   "outputs": [],
   "source": []
  }
 ],
 "metadata": {
  "kernelspec": {
   "display_name": "Python 3 (ipykernel)",
   "language": "python",
   "name": "python3"
  },
  "language_info": {
   "codemirror_mode": {
    "name": "ipython",
    "version": 3
   },
   "file_extension": ".py",
   "mimetype": "text/x-python",
   "name": "python",
   "nbconvert_exporter": "python",
   "pygments_lexer": "ipython3",
   "version": "3.9.13"
  }
 },
 "nbformat": 4,
 "nbformat_minor": 5
}
